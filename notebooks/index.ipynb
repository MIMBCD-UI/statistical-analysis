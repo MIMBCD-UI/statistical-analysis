{
 "cells": [
  {
   "cell_type": "code",
   "execution_count": 1,
   "metadata": {
    "scrolled": false
   },
   "outputs": [
    {
     "name": "stdout",
     "output_type": "stream",
     "text": [
      "Multiple Comparison of Means - Tukey HSD,FWER=0.05\n",
      "==============================================\n",
      "group1 group2 meandiff  lower    upper  reject\n",
      "----------------------------------------------\n",
      " 1.0    2.0     2.5    -16.5971 21.5971 False \n",
      " 1.0    3.0     1.0    -23.1561 25.1561 False \n",
      " 1.0    4.0     1.0    -19.9198 21.9198 False \n",
      " 1.0    17.0    15.0   -9.1561  39.1561 False \n",
      " 2.0    3.0     -1.5   -20.5971 17.5971 False \n",
      " 2.0    4.0     -1.5   -16.2925 13.2925 False \n",
      " 2.0    17.0    12.5   -6.5971  31.5971 False \n",
      " 3.0    4.0     0.0    -20.9198 20.9198 False \n",
      " 3.0    17.0    14.0   -10.1561 38.1561 False \n",
      " 4.0    17.0    14.0   -6.9198  34.9198 False \n",
      "----------------------------------------------\n",
      "[ 1.  2.  3.  4. 17.]\n"
     ]
    }
   ],
   "source": [
    "%matplotlib inline\n",
    "\n",
    "import os\n",
    "import sys\n",
    "module_path = os.path.abspath(os.path.join('..'))\n",
    "if module_path not in sys.path:\n",
    "    sys.path.append(module_path)\n",
    "\n",
    "from methods import posthoc\n",
    "#from techniques import measures\n",
    "#from methods import variance\n",
    "#from methods import normalValidation\n",
    "#from methods import anova"
   ]
  }
 ],
 "metadata": {
  "kernelspec": {
   "display_name": "Python 3",
   "language": "python",
   "name": "python3"
  },
  "language_info": {
   "codemirror_mode": {
    "name": "ipython",
    "version": 3
   },
   "file_extension": ".py",
   "mimetype": "text/x-python",
   "name": "python",
   "nbconvert_exporter": "python",
   "pygments_lexer": "ipython3",
   "version": "3.6.5"
  }
 },
 "nbformat": 4,
 "nbformat_minor": 2
}
