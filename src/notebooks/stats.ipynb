{
 "cells": [
  {
   "cell_type": "code",
   "execution_count": 1,
   "metadata": {
    "scrolled": false
   },
   "outputs": [
    {
     "name": "stderr",
     "output_type": "stream",
     "text": [
      "MODE: critical\n"
     ]
    },
    {
     "name": "stdout",
     "output_type": "stream",
     "text": [
      "==============================\n",
      "NASA-TLX full current low\n",
      "F_onewayResult(statistic=2.2155601393793196, pvalue=0.09868478090117473)\n",
      "LeveneResult(statistic=2.8811023900275456, pvalue=0.04566684861774222)\n",
      "==============================\n",
      "\n",
      "\n",
      "\n",
      "\n",
      "\n",
      "\n",
      "\n",
      "\n",
      "\n",
      "\n",
      "\n",
      "\n",
      "==============================\n",
      "TIME full current low\n",
      "F_onewayResult(statistic=3.252569215123859, pvalue=0.03125489173825423)\n",
      "LeveneResult(statistic=1.8014719642604278, pvalue=0.16200977805298036)\n",
      "  Multiple Comparison of Means - Tukey HSD, FWER=0.05  \n",
      "=======================================================\n",
      "group1 group2 meandiff p-adj    lower    upper   reject\n",
      "-------------------------------------------------------\n",
      "intern junior 111.2917 0.0225   12.1178 210.4655   True\n",
      "intern middle  22.9524 0.8825  -62.5247 108.4295  False\n",
      "intern senior  46.3939 0.5227  -44.3034 137.0913  False\n",
      "junior middle -88.3393 0.0825 -184.6379   7.9593  False\n",
      "junior senior -64.8977 0.3261 -165.8586  36.0632  False\n",
      "middle senior  23.4416 0.8836  -64.1026 110.9858  False\n",
      "-------------------------------------------------------\n",
      "==============================\n",
      "==============================\n",
      "TIME full assistant low\n",
      "F_onewayResult(statistic=0.8309370159665503, pvalue=0.48457153637643136)\n",
      "LeveneResult(statistic=0.44679239957395833, pvalue=0.7208833597135267)\n",
      "==============================\n",
      "\n",
      "\n",
      "==============================\n",
      "\n",
      "\n",
      "==============================\n",
      "TIME full current medium\n",
      "F_onewayResult(statistic=1.0258148724715515, pvalue=0.3911586002681101)\n",
      "LeveneResult(statistic=2.3066250692253667, pvalue=0.09083427330902868)\n",
      "==============================\n",
      "==============================\n",
      "TIME full assistant medium\n",
      "F_onewayResult(statistic=2.8012530779062272, pvalue=0.051806961514253895)\n",
      "LeveneResult(statistic=1.3464112358507112, pvalue=0.27262601091709643)\n",
      "==============================\n",
      "\n",
      "\n",
      "==============================\n",
      "\n",
      "\n",
      "==============================\n",
      "TIME full current high\n",
      "F_onewayResult(statistic=0.02076393550759125, pvalue=0.995873381142273)\n",
      "LeveneResult(statistic=1.0219022877645028, pvalue=0.39286369904866253)\n",
      "==============================\n",
      "==============================\n",
      "TIME full assistant high\n",
      "F_onewayResult(statistic=1.2311253879161845, pvalue=0.3106891228244122)\n",
      "LeveneResult(statistic=0.7436074332070298, pvalue=0.5322723125907975)\n",
      "==============================\n"
     ]
    }
   ],
   "source": [
    "%matplotlib inline\n",
    "\n",
    "import os\n",
    "import sys\n",
    "module_path = os.path.abspath(os.path.join('..'))\n",
    "if module_path not in sys.path:\n",
    "    sys.path.append(module_path)\n",
    "\n",
    "from methods import stats"
   ]
  }
 ],
 "metadata": {
  "kernelspec": {
   "display_name": "Python 3",
   "language": "python",
   "name": "python3"
  },
  "language_info": {
   "codemirror_mode": {
    "name": "ipython",
    "version": 3
   },
   "file_extension": ".py",
   "mimetype": "text/x-python",
   "name": "python",
   "nbconvert_exporter": "python",
   "pygments_lexer": "ipython3",
   "version": "3.7.2"
  }
 },
 "nbformat": 4,
 "nbformat_minor": 2
}
